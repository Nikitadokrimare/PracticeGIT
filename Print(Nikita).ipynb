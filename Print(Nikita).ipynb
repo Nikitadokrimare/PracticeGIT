{
 "cells": [
  {
   "cell_type": "code",
   "execution_count": 1,
   "id": "8c44e472",
   "metadata": {},
   "outputs": [
    {
     "name": "stdout",
     "output_type": "stream",
     "text": [
      "Nikita\n"
     ]
    }
   ],
   "source": [
    "print('Nikita')"
   ]
  },
  {
   "cell_type": "code",
   "execution_count": 2,
   "id": "6ada7e0f",
   "metadata": {},
   "outputs": [],
   "source": [
    "studentA = 'nikita'"
   ]
  },
  {
   "cell_type": "code",
   "execution_count": 3,
   "id": "715b63a4",
   "metadata": {},
   "outputs": [
    {
     "name": "stdout",
     "output_type": "stream",
     "text": [
      "nikita\n"
     ]
    }
   ],
   "source": [
    "print(studentA)"
   ]
  }
 ],
 "metadata": {
  "kernelspec": {
   "display_name": "Python 3 (ipykernel)",
   "language": "python",
   "name": "python3"
  },
  "language_info": {
   "codemirror_mode": {
    "name": "ipython",
    "version": 3
   },
   "file_extension": ".py",
   "mimetype": "text/x-python",
   "name": "python",
   "nbconvert_exporter": "python",
   "pygments_lexer": "ipython3",
   "version": "3.11.5"
  }
 },
 "nbformat": 4,
 "nbformat_minor": 5
}
